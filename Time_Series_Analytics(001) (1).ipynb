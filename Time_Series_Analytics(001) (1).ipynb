{
  "nbformat": 4,
  "nbformat_minor": 0,
  "metadata": {
    "colab": {
      "name": "Time Series Analytics(001).ipynb",
      "provenance": []
    },
    "kernelspec": {
      "name": "python3",
      "display_name": "Python 3"
    },
    "language_info": {
      "name": "python"
    }
  },
  "cells": [
    {
      "cell_type": "markdown",
      "metadata": {
        "id": "QNjGGTwni0so"
      },
      "source": [
        "Course Title# Time Series Analytics(001)\n",
        "\n"
      ]
    },
    {
      "cell_type": "markdown",
      "metadata": {
        "id": "_gzoUEzrjJSO"
      },
      "source": [
        "Student Name#"
      ]
    },
    {
      "cell_type": "markdown",
      "metadata": {
        "id": "wFei7sBFjH-G"
      },
      "source": [
        "Student ID#"
      ]
    },
    {
      "cell_type": "markdown",
      "metadata": {
        "id": "QqOv68YLjMZ-"
      },
      "source": [
        "1: Read the dataset “coffee.xlxs” using python and print the dataset"
      ]
    },
    {
      "cell_type": "code",
      "metadata": {
        "id": "-sihkTIZiw3f"
      },
      "source": [
        "\n"
      ],
      "execution_count": null,
      "outputs": []
    },
    {
      "cell_type": "markdown",
      "metadata": {
        "id": "cuBYZcrzjF6_"
      },
      "source": [
        "2.\tCalculate the following statistical parameters of ‘image’: mean, variance, standard deviation, kurtosis and skewness."
      ]
    },
    {
      "cell_type": "code",
      "source": [
        ""
      ],
      "metadata": {
        "id": "92R0UChUU7it"
      },
      "execution_count": null,
      "outputs": []
    },
    {
      "cell_type": "code",
      "metadata": {
        "id": "PFVgSxC0kAot"
      },
      "source": [
        ""
      ],
      "execution_count": null,
      "outputs": []
    },
    {
      "cell_type": "markdown",
      "metadata": {
        "id": "V7HCPwS2j-x-"
      },
      "source": [
        "3.\tVisualize the brand vs freq using a line_graph with x-label, y-label and title. "
      ]
    },
    {
      "cell_type": "code",
      "metadata": {
        "id": "tBFpMg0fkXKu"
      },
      "source": [
        ""
      ],
      "execution_count": null,
      "outputs": []
    }
  ]
}